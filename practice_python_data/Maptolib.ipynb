{
 "cells": [
  {
   "cell_type": "code",
   "execution_count": 20,
   "metadata": {
    "collapsed": false
   },
   "outputs": [
    {
     "data": {
      "text/plain": [
       "12"
      ]
     },
     "execution_count": 20,
     "metadata": {},
     "output_type": "execute_result"
    }
   ],
   "source": [
    "y=2\n",
    "x=6\n",
    "x*y"
   ]
  },
  {
   "cell_type": "code",
   "execution_count": 21,
   "metadata": {
    "collapsed": true
   },
   "outputs": [],
   "source": [
    "followers = [500,900,1000,1400,1800,2200,2600,3000,3400,3800,4200,4600,5000]\n",
    "influencer_cost = [27,37,40,51,62,74,87,100,114,128,142,158,174]"
   ]
  },
  {
   "cell_type": "code",
   "execution_count": 22,
   "metadata": {
    "collapsed": false
   },
   "outputs": [],
   "source": [
    "import matplotlib.pyplot as plt\n",
    "#$sudo pip3 install matplotlib"
   ]
  },
  {
   "cell_type": "code",
   "execution_count": 23,
   "metadata": {
    "collapsed": false
   },
   "outputs": [],
   "source": [
    "plt.plot(followers, influencer_cost)\n",
    "plt.show()"
   ]
  },
  {
   "cell_type": "code",
   "execution_count": 24,
   "metadata": {
    "collapsed": false
   },
   "outputs": [],
   "source": [
    "plt.scatter(followers, influencer_cost)\n",
    "plt.show()"
   ]
  },
  {
   "cell_type": "code",
   "execution_count": 25,
   "metadata": {
    "collapsed": false
   },
   "outputs": [],
   "source": [
    "plt.xscale('log')\n",
    "plt.show()"
   ]
  },
  {
   "cell_type": "code",
   "execution_count": 26,
   "metadata": {
    "collapsed": true
   },
   "outputs": [],
   "source": [
    "values = [0,2,0,4,0,2,9,1,9,3,1,0,0,2,4,6,4,6,7,3,5,3,1,9,0,4]"
   ]
  },
  {
   "cell_type": "code",
   "execution_count": 27,
   "metadata": {
    "collapsed": false
   },
   "outputs": [],
   "source": [
    "plt.hist(values)\n",
    "plt.show()"
   ]
  },
  {
   "cell_type": "code",
   "execution_count": 28,
   "metadata": {
    "collapsed": false
   },
   "outputs": [
    {
     "name": "stdout",
     "output_type": "stream",
     "text": [
      "Help on function hist in module matplotlib.pyplot:\n",
      "\n",
      "hist(x, bins=None, range=None, normed=False, weights=None, cumulative=False, bottom=None, histtype='bar', align='mid', orientation='vertical', rwidth=None, log=False, color=None, label=None, stacked=False, hold=None, data=None, **kwargs)\n",
      "    Plot a histogram.\n",
      "    \n",
      "    Compute and draw the histogram of *x*. The return value is a\n",
      "    tuple (*n*, *bins*, *patches*) or ([*n0*, *n1*, ...], *bins*,\n",
      "    [*patches0*, *patches1*,...]) if the input contains multiple\n",
      "    data.\n",
      "    \n",
      "    Multiple data can be provided via *x* as a list of datasets\n",
      "    of potentially different length ([*x0*, *x1*, ...]), or as\n",
      "    a 2-D ndarray in which each column is a dataset.  Note that\n",
      "    the ndarray form is transposed relative to the list form.\n",
      "    \n",
      "    Masked arrays are not supported at present.\n",
      "    \n",
      "    Parameters\n",
      "    ----------\n",
      "    x : (n,) array or sequence of (n,) arrays\n",
      "        Input values, this takes either a single array or a sequency of\n",
      "        arrays which are not required to be of the same length\n",
      "    \n",
      "    bins : integer or array_like or 'auto', optional\n",
      "        If an integer is given, `bins + 1` bin edges are returned,\n",
      "        consistently with :func:`numpy.histogram` for numpy version >=\n",
      "        1.3.\n",
      "    \n",
      "        Unequally spaced bins are supported if `bins` is a sequence.\n",
      "    \n",
      "        If Numpy 1.11 is installed, may also be ``'auto'``.\n",
      "    \n",
      "        Default is taken from the rcParam ``hist.bins``.\n",
      "    \n",
      "    range : tuple or None, optional\n",
      "        The lower and upper range of the bins. Lower and upper outliers\n",
      "        are ignored. If not provided, `range` is (x.min(), x.max()). Range\n",
      "        has no effect if `bins` is a sequence.\n",
      "    \n",
      "        If `bins` is a sequence or `range` is specified, autoscaling\n",
      "        is based on the specified bin range instead of the\n",
      "        range of x.\n",
      "    \n",
      "        Default is ``None``\n",
      "    \n",
      "    normed : boolean, optional\n",
      "        If `True`, the first element of the return tuple will\n",
      "        be the counts normalized to form a probability density, i.e.,\n",
      "        ``n/(len(x)`dbin)``, i.e., the integral of the histogram will sum\n",
      "        to 1. If *stacked* is also *True*, the sum of the histograms is\n",
      "        normalized to 1.\n",
      "    \n",
      "        Default is ``False``\n",
      "    \n",
      "    weights : (n, ) array_like or None, optional\n",
      "        An array of weights, of the same shape as `x`.  Each value in `x`\n",
      "        only contributes its associated weight towards the bin count\n",
      "        (instead of 1).  If `normed` is True, the weights are normalized,\n",
      "        so that the integral of the density over the range remains 1.\n",
      "    \n",
      "        Default is ``None``\n",
      "    \n",
      "    cumulative : boolean, optional\n",
      "        If `True`, then a histogram is computed where each bin gives the\n",
      "        counts in that bin plus all bins for smaller values. The last bin\n",
      "        gives the total number of datapoints.  If `normed` is also `True`\n",
      "        then the histogram is normalized such that the last bin equals 1.\n",
      "        If `cumulative` evaluates to less than 0 (e.g., -1), the direction\n",
      "        of accumulation is reversed.  In this case, if `normed` is also\n",
      "        `True`, then the histogram is normalized such that the first bin\n",
      "        equals 1.\n",
      "    \n",
      "        Default is ``False``\n",
      "    \n",
      "    bottom : array_like, scalar, or None\n",
      "        Location of the bottom baseline of each bin.  If a scalar,\n",
      "        the base line for each bin is shifted by the same amount.\n",
      "        If an array, each bin is shifted independently and the length\n",
      "        of bottom must match the number of bins.  If None, defaults to 0.\n",
      "    \n",
      "        Default is ``None``\n",
      "    \n",
      "    histtype : {'bar', 'barstacked', 'step',  'stepfilled'}, optional\n",
      "        The type of histogram to draw.\n",
      "    \n",
      "        - 'bar' is a traditional bar-type histogram.  If multiple data\n",
      "          are given the bars are aranged side by side.\n",
      "    \n",
      "        - 'barstacked' is a bar-type histogram where multiple\n",
      "          data are stacked on top of each other.\n",
      "    \n",
      "        - 'step' generates a lineplot that is by default\n",
      "          unfilled.\n",
      "    \n",
      "        - 'stepfilled' generates a lineplot that is by default\n",
      "          filled.\n",
      "    \n",
      "        Default is 'bar'\n",
      "    \n",
      "    align : {'left', 'mid', 'right'}, optional\n",
      "        Controls how the histogram is plotted.\n",
      "    \n",
      "            - 'left': bars are centered on the left bin edges.\n",
      "    \n",
      "            - 'mid': bars are centered between the bin edges.\n",
      "    \n",
      "            - 'right': bars are centered on the right bin edges.\n",
      "    \n",
      "        Default is 'mid'\n",
      "    \n",
      "    orientation : {'horizontal', 'vertical'}, optional\n",
      "        If 'horizontal', `~matplotlib.pyplot.barh` will be used for\n",
      "        bar-type histograms and the *bottom* kwarg will be the left edges.\n",
      "    \n",
      "    rwidth : scalar or None, optional\n",
      "        The relative width of the bars as a fraction of the bin width.  If\n",
      "        `None`, automatically compute the width.\n",
      "    \n",
      "        Ignored if `histtype` is 'step' or 'stepfilled'.\n",
      "    \n",
      "        Default is ``None``\n",
      "    \n",
      "    log : boolean, optional\n",
      "        If `True`, the histogram axis will be set to a log scale. If `log`\n",
      "        is `True` and `x` is a 1D array, empty bins will be filtered out\n",
      "        and only the non-empty (`n`, `bins`, `patches`) will be returned.\n",
      "    \n",
      "        Default is ``False``\n",
      "    \n",
      "    color : color or array_like of colors or None, optional\n",
      "        Color spec or sequence of color specs, one per dataset.  Default\n",
      "        (`None`) uses the standard line color sequence.\n",
      "    \n",
      "        Default is ``None``\n",
      "    \n",
      "    label : string or None, optional\n",
      "        String, or sequence of strings to match multiple datasets.  Bar\n",
      "        charts yield multiple patches per dataset, but only the first gets\n",
      "        the label, so that the legend command will work as expected.\n",
      "    \n",
      "        default is ``None``\n",
      "    \n",
      "    stacked : boolean, optional\n",
      "        If `True`, multiple data are stacked on top of each other If\n",
      "        `False` multiple data are aranged side by side if histtype is\n",
      "        'bar' or on top of each other if histtype is 'step'\n",
      "    \n",
      "        Default is ``False``\n",
      "    \n",
      "    Returns\n",
      "    -------\n",
      "    n : array or list of arrays\n",
      "        The values of the histogram bins. See **normed** and **weights**\n",
      "        for a description of the possible semantics. If input **x** is an\n",
      "        array, then this is an array of length **nbins**. If input is a\n",
      "        sequence arrays ``[data1, data2,..]``, then this is a list of\n",
      "        arrays with the values of the histograms for each of the arrays\n",
      "        in the same order.\n",
      "    \n",
      "    bins : array\n",
      "        The edges of the bins. Length nbins + 1 (nbins left edges and right\n",
      "        edge of last bin).  Always a single array even when multiple data\n",
      "        sets are passed in.\n",
      "    \n",
      "    patches : list or list of lists\n",
      "        Silent list of individual patches used to create the histogram\n",
      "        or list of such list if multiple input datasets.\n",
      "    \n",
      "    Other Parameters\n",
      "    ----------------\n",
      "    kwargs : `~matplotlib.patches.Patch` properties\n",
      "    \n",
      "    See also\n",
      "    --------\n",
      "    hist2d : 2D histograms\n",
      "    \n",
      "    Notes\n",
      "    -----\n",
      "    Until numpy release 1.5, the underlying numpy histogram function was\n",
      "    incorrect with `normed`=`True` if bin sizes were unequal.  MPL\n",
      "    inherited that error.  It is now corrected within MPL when using\n",
      "    earlier numpy versions.\n",
      "    \n",
      "    Examples\n",
      "    --------\n",
      "    .. plot:: mpl_examples/statistics/histogram_demo_features.py\n",
      "    \n",
      "    .. note::\n",
      "        In addition to the above described arguments, this function can take a\n",
      "        **data** keyword argument. If such a **data** argument is given, the\n",
      "        following arguments are replaced by **data[<arg>]**:\n",
      "    \n",
      "        * All arguments with the following names: 'weights', 'x'.\n",
      "\n"
     ]
    }
   ],
   "source": [
    "help(plt.hist)"
   ]
  },
  {
   "cell_type": "code",
   "execution_count": 8,
   "metadata": {
    "collapsed": false
   },
   "outputs": [
    {
     "data": {
      "image/png": "[encoded data removed]",
      "text/plain": [
       "<matplotlib.figure.Figure at 0x7f7ae7042d68>"
      ]
     },
     "metadata": {},
     "output_type": "display_data"
    }
   ],
   "source": [
    "plt.hist(values, bins=3)\n",
    "plt.show()"
   ]
  },
  {
   "cell_type": "code",
   "execution_count": 29,
   "metadata": {
    "collapsed": false
   },
   "outputs": [],
   "source": [
    "plt.hist(values, bins=3)\n",
    "plt.show()\n",
    "plt.clf()\n",
    "plt.hist(values, bins=10)\n",
    "plt.show()\n",
    "plt.clf()"
   ]
  },
  {
   "cell_type": "code",
   "execution_count": 36,
   "metadata": {
    "collapsed": false
   },
   "outputs": [
    {
     "data": {
      "image/png": "[encoded data removed]",
      "text/plain": [
       "<matplotlib.figure.Figure at 0x7fd161c5b940>"
      ]
     },
     "metadata": {},
     "output_type": "display_data"
    }
   ],
   "source": [
    "plt.scatter(followers, influencer_cost)\n",
    "plt.xlabel(\"Followers\")\n",
    "plt.ylabel(\"Influencer cost\")\n",
    "plt.title(\"Influencer cost in facebook\")\n",
    "plt.show()"
   ]
  },
  {
   "cell_type": "code",
   "execution_count": 37,
   "metadata": {
    "collapsed": false
   },
   "outputs": [
    {
     "data": {
      "image/png": "[encoded data removed]",
      "text/plain": [
       "<matplotlib.figure.Figure at 0x7fd16226c278>"
      ]
     },
     "metadata": {},
     "output_type": "display_data"
    }
   ],
   "source": [
    "import numpy as np\n",
    "n_followers = np.array(followers)\n",
    "plt.scatter(followers, influencer_cost, s=n_followers*1.00002)\n",
    "plt.show()"
   ]
  },
  {
   "cell_type": "code",
   "execution_count": 38,
   "metadata": {
    "collapsed": false
   },
   "outputs": [
    {
     "data": {
      "image/png": "[encoded data removed]",
      "text/plain": [
       "<matplotlib.figure.Figure at 0x7fd161d75be0>"
      ]
     },
     "metadata": {},
     "output_type": "display_data"
    }
   ],
   "source": [
    "color = ['red','blue','red','yellow','blue','green','blue','red','blue','yellow','yellow','blue','red']\n",
    "plt.scatter(followers, influencer_cost, s=150, c=color, alpha=0.8)\n",
    "plt.show()"
   ]
  },
  {
   "cell_type": "code",
   "execution_count": 47,
   "metadata": {
    "collapsed": false
   },
   "outputs": [
    {
     "data": {
      "image/png": "[encoded data removed]",
      "text/plain": [
       "<matplotlib.figure.Figure at 0x7fd161d54198>"
      ]
     },
     "metadata": {},
     "output_type": "display_data"
    }
   ],
   "source": [
    "color = ['red','blue','red','yellow','blue','green','blue','red','blue','yellow','yellow','blue','red']\n",
    "plt.scatter(followers, influencer_cost, s=150, c=color, alpha=0.8)\n",
    "plt.text(1000, 60, \"Ciudadano\")\n",
    "plt.text(3000, 120, \"Profesional\")\n",
    "plt.text(4000, 160, \"Celebrity\")\n",
    "plt.grid(True)\n",
    "plt.show()"
   ]
  },
  {
   "cell_type": "code",
   "execution_count": null,
   "metadata": {
    "collapsed": true
   },
   "outputs": [],
   "source": []
  }
 ],
 "metadata": {
  "kernelspec": {
   "display_name": "Python 3",
   "language": "python",
   "name": "python3"
  },
  "language_info": {
   "codemirror_mode": {
    "name": "ipython",
    "version": 3
   },
   "file_extension": ".py",
   "mimetype": "text/x-python",
   "name": "python",
   "nbconvert_exporter": "python",
   "pygments_lexer": "ipython3",
   "version": "3.6.0"
  }
 },
 "nbformat": 4,
 "nbformat_minor": 2
}
